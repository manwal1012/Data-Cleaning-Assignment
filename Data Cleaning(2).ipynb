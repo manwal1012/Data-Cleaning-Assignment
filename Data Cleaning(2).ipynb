{
 "cells": [
  {
   "cell_type": "code",
   "execution_count": 2,
   "metadata": {},
   "outputs": [],
   "source": [
    "import pandas as pd\n",
    "import numpy as np"
   ]
  },
  {
   "cell_type": "code",
   "execution_count": 4,
   "metadata": {},
   "outputs": [],
   "source": [
    "df = pd.DataFrame({'From_To': ['LoNDon_paris', 'MAdrid_miLAN',\n",
    "'londON_StockhOlm',\n",
    "\n",
    "'Budapest_PaRis', 'Brussels_londOn'],\n",
    "'FlightNumber': [10045, np.nan, 10065, np.nan, 10085],\n",
    "'RecentDelays': [[23, 47], [], [24, 43, 87], [13], [67, 32]],\n",
    "'Airline': ['KLM(!)', '<Air France> (12)', '(British Airways. )',\n",
    "'12. Air France', '\"Swiss Air\"']})"
   ]
  },
  {
   "cell_type": "markdown",
   "metadata": {},
   "source": [
    "#### 1. Some values in the the FlightNumber column are missing. These numbers aremeant to increase by 10 with each row so 10055 and 10075 need to be put in place. Fill in these missing numbers and make the column an integer column(instead of a float column)."
   ]
  },
  {
   "cell_type": "code",
   "execution_count": 5,
   "metadata": {},
   "outputs": [],
   "source": [
    "col = df['FlightNumber']\n",
    "for i in df.index:\n",
    "    if(pd.isnull(col[i]) == False):\n",
    "        a=col[i]\n",
    "    else:\n",
    "        a=a+10\n",
    "        col[i]=a\n",
    "\n",
    "#using dictionary to convert the 'FlightNumber' column to int32\n",
    "convert_dict = {'FlightNumber' : 'int32' }\n",
    "\n",
    "df=df.astype(convert_dict)"
   ]
  },
  {
   "cell_type": "markdown",
   "metadata": {},
   "source": [
    "#### 2. The From_To column would be better as two separate columns! Split each string on the underscore delimiter _ to give a new temporary DataFrame with the correct values. Assign the correct column names to this temporary DataFrame."
   ]
  },
  {
   "cell_type": "code",
   "execution_count": 9,
   "metadata": {},
   "outputs": [],
   "source": [
    "Col_From_To = df['From_To'].str.split('_',expand=True)     #to split the columns in two separate columns\n",
    "df['From']=Col_From_To[0]                                  #Assign separated columns to dataframe new columns\n",
    "df['To']=Col_From_To[1]\n",
    "temp_df=df.drop(columns=['From_To'])                       #drop the 'From_To' column and assign dataframe to temp Dataframe"
   ]
  },
  {
   "cell_type": "markdown",
   "metadata": {},
   "source": [
    "#### 3. Notice how the capitalisation of the city names is all mixed up in this temporary DataFrame. Standardise the strings so that only the first letter is uppercase (e.g. \"londON\" should become \"London\".)"
   ]
  },
  {
   "cell_type": "code",
   "execution_count": 10,
   "metadata": {},
   "outputs": [],
   "source": [
    "temp_df['From']=temp_df['From'].str.capitalize()\n",
    "temp_df['To']=temp_df['To'].str.capitalize()"
   ]
  },
  {
   "cell_type": "markdown",
   "metadata": {},
   "source": [
    "#### 4. Delete the From_To column from df and attach the temporary DataFrame from the previous questions."
   ]
  },
  {
   "cell_type": "code",
   "execution_count": null,
   "metadata": {},
   "outputs": [],
   "source": [
    "temp_df['From']=temp_df['From'].str.capitalize()\n",
    "temp_df['To']=temp_df['To'].str.capitalize()\n",
    "df=df.drop(columns=['From_To'])\n",
    "df=temp_df"
   ]
  },
  {
   "cell_type": "markdown",
   "metadata": {},
   "source": [
    "#### 5. In the RecentDelays column, the values have been entered into the DataFrame as a list. We would like each first value in its own column, each second value in its own column, and so on. If there isn't an Nth value, the value should be NaN. Expand the Series of lists into a DataFrame named delays, rename the columns delay_1, delay_2, etc. and replace the unwanted RecentDelays column in df with delays."
   ]
  },
  {
   "cell_type": "code",
   "execution_count": 5,
   "metadata": {},
   "outputs": [],
   "source": [
    "df1 = pd.DataFrame(df['RecentDelays'].values.tolist())                    #get list values separately\n",
    "length_cols = df1.shape[1]                                                #To get the length\n",
    "col_dict ={}                                                              #To create the column names\n",
    "for i in range(length_cols): \n",
    "    Key = df1.columns[i]\n",
    "    Value = \"Delay_\" + str(i+1)\n",
    "    col_dict[Key] = Value\n",
    "\n",
    "df1.rename(columns=col_dict,inplace=True)                                \n",
    "df.drop('RecentDelays',axis=1,inplace=True)\n",
    "df[['Delay_1','Delay_2','Delay_3']]=df1[['Delay_1','Delay_2','Delay_3']] #Assign the column names to original df"
   ]
  },
  {
   "cell_type": "code",
   "execution_count": null,
   "metadata": {},
   "outputs": [],
   "source": []
  }
 ],
 "metadata": {
  "kernelspec": {
   "display_name": "Python 3",
   "language": "python",
   "name": "python3"
  },
  "language_info": {
   "codemirror_mode": {
    "name": "ipython",
    "version": 3
   },
   "file_extension": ".py",
   "mimetype": "text/x-python",
   "name": "python",
   "nbconvert_exporter": "python",
   "pygments_lexer": "ipython3",
   "version": "3.7.1"
  }
 },
 "nbformat": 4,
 "nbformat_minor": 2
}
